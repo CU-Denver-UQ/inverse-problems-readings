{
 "cells": [
  {
   "cell_type": "code",
   "execution_count": null,
   "metadata": {
    "collapsed": true
   },
   "outputs": [],
   "source": [
    "import numpy as np\n",
    "%matplotlib notebook\n",
    "import matplotlib.pyplot as plt\n",
    "plt.rcParams.update({'font.size': 14})"
   ]
  },
  {
   "cell_type": "code",
   "execution_count": null,
   "metadata": {
    "collapsed": false
   },
   "outputs": [],
   "source": [
    "from IPython.html.widgets import *"
   ]
  },
  {
   "cell_type": "code",
   "execution_count": null,
   "metadata": {
    "collapsed": true
   },
   "outputs": [],
   "source": [
    "import scipy.stats as sstats "
   ]
  },
  {
   "cell_type": "markdown",
   "metadata": {},
   "source": [
    "## Import KDE function\n",
    "\n",
    "Kernel density estimation (KDE) is used to construct the approximation push-forward of the prior density. \n",
    "To read more on KDE, see https://en.wikipedia.org/wiki/Kernel_density_estimation. \n",
    "\n",
    "To see what the `scipy` KDE is doing, see https://docs.scipy.org/doc/scipy/reference/generated/scipy.stats.gaussian_kde.html."
   ]
  },
  {
   "cell_type": "code",
   "execution_count": null,
   "metadata": {
    "collapsed": false
   },
   "outputs": [],
   "source": [
    "from scipy.stats import gaussian_kde as gkde"
   ]
  },
  {
   "cell_type": "markdown",
   "metadata": {},
   "source": [
    "## Sample from $\\Lambda$\n",
    "\n",
    "Assuming a $N(0,I)$ distribution for the prior on $\\Lambda=\\mathbb{R}^5$."
   ]
  },
  {
   "cell_type": "code",
   "execution_count": null,
   "metadata": {
    "collapsed": false
   },
   "outputs": [],
   "source": [
    "num_samples = int(1E4)\n",
    "lam = np.random.normal(size=(5,num_samples))\n",
    "\n",
    "# Look at some statistics of these samples\n",
    "print('sample mean = \\n', np.mean(lam,axis=1),'\\n')\n",
    "print('sample cov  = \\n', np.cov(lam))"
   ]
  },
  {
   "cell_type": "markdown",
   "metadata": {},
   "source": [
    "## Create KDE of samples on $\\Lambda$ or use specified density on $\\Lambda$\n",
    "\n",
    "***The KDE is not necessary if the density on the input space is already specified***\n",
    "\n",
    "Here, we just do this to show how the density estimator works compared to the exact density.\n",
    "The KDE is not necessary except for the push-forward density. "
   ]
  },
  {
   "cell_type": "code",
   "execution_count": null,
   "metadata": {
    "collapsed": false
   },
   "outputs": [],
   "source": [
    "prior_dens_kde = gkde(lam) \n",
    "\n",
    "prior_dens = sstats.multivariate_normal(mean=np.zeros(5), cov=np.eye(5)) #Exact density"
   ]
  },
  {
   "cell_type": "code",
   "execution_count": null,
   "metadata": {
    "collapsed": false
   },
   "outputs": [],
   "source": [
    "x = np.linspace(-5,5,1000)\n",
    "z = np.ones(1000)\n",
    "\n",
    "# Define arrays of points in different directions in \\Lambda\n",
    "pts1 = np.array([x,0*z,0*z,0*z,0*z])\n",
    "pts2 = np.array([x,z,0*z,0*z,0*z])\n",
    "pts3 = np.array([x,x,0*z,0*z,0*z])\n",
    "pts4 = np.array([0*z,0*z,x,0*z,0*z])\n",
    "pts5 = np.array([x,x,x,x,x])"
   ]
  },
  {
   "cell_type": "code",
   "execution_count": null,
   "metadata": {
    "collapsed": false
   },
   "outputs": [],
   "source": [
    "pts = pts1 # Choose a direction to plot the density\n",
    "\n",
    "plt.figure()\n",
    "plt.plot(x,prior_dens_kde.evaluate(pts),'r')\n",
    "plt.plot(x,prior_dens.pdf(pts.transpose()))"
   ]
  },
  {
   "cell_type": "markdown",
   "metadata": {},
   "source": [
    "## QoI: $q=\\sum_{i=1}^n \\lambda_i$"
   ]
  },
  {
   "cell_type": "code",
   "execution_count": null,
   "metadata": {
    "collapsed": false
   },
   "outputs": [],
   "source": [
    "q = np.sum(lam,axis=0)\n",
    "print(q.shape)"
   ]
  },
  {
   "cell_type": "markdown",
   "metadata": {},
   "source": [
    "## Push-forward density"
   ]
  },
  {
   "cell_type": "code",
   "execution_count": null,
   "metadata": {
    "collapsed": true
   },
   "outputs": [],
   "source": [
    "pf_dens = gkde(q)"
   ]
  },
  {
   "cell_type": "markdown",
   "metadata": {},
   "source": [
    "## Import `scipy.stats` to construct observed density"
   ]
  },
  {
   "cell_type": "code",
   "execution_count": null,
   "metadata": {
    "collapsed": false
   },
   "outputs": [],
   "source": [
    "import scipy.stats as sstats\n",
    "\n",
    "# Let's be silly and use a uniform observed density.\n",
    "obs_dens = sstats.uniform(0, 4)"
   ]
  },
  {
   "cell_type": "markdown",
   "metadata": {},
   "source": [
    "## Accept/reject sampling of posterior if samples come from prior"
   ]
  },
  {
   "cell_type": "code",
   "execution_count": null,
   "metadata": {
    "collapsed": false
   },
   "outputs": [],
   "source": [
    "lam_accept = []\n",
    "r = obs_dens.pdf(q)/pf_dens.evaluate(q)\n",
    "M = np.max(r)\n",
    "eta_r = r/M\n",
    "for i in range(num_samples):\n",
    "    xi = np.random.uniform(0,1)\n",
    "    if eta_r[i] > xi:\n",
    "        lam_accept.append(lam[:,i])"
   ]
  },
  {
   "cell_type": "code",
   "execution_count": null,
   "metadata": {
    "collapsed": false
   },
   "outputs": [],
   "source": [
    "lam_accept = np.array(lam_accept)"
   ]
  },
  {
   "cell_type": "code",
   "execution_count": null,
   "metadata": {
    "collapsed": false
   },
   "outputs": [],
   "source": [
    "plt.figure()\n",
    "plt.scatter(lam[0,:],lam[1,:])\n",
    "plt.scatter(lam_accept[:,0],lam_accept[:,1])"
   ]
  },
  {
   "cell_type": "markdown",
   "metadata": {},
   "source": [
    "## What we could do but I wouldn't recommend it.\n",
    "\n",
    "We could use the accepted samples to create a KDE of the posterior, but in general I would not do this for at least one of the following reasons:\n",
    "\n",
    "   - The number of accepted samples may be rather small for constructing an accurate KDE approximation.\n",
    "   \n",
    "   - The dimension of the parameter space is often fairly high which complicates using a KDE.\n",
    "   \n",
    "   - It is not as if you can really sample easily from the KDE once you have it."
   ]
  },
  {
   "cell_type": "code",
   "execution_count": null,
   "metadata": {
    "collapsed": true
   },
   "outputs": [],
   "source": [
    "post_dens = gkde(lam_accept.transpose()) # Not very useful"
   ]
  },
  {
   "cell_type": "code",
   "execution_count": null,
   "metadata": {
    "collapsed": false
   },
   "outputs": [],
   "source": [
    "# Can plot \"slices\" of densities to observe differences between posterior and prior, but not that useful\n",
    "pts = pts1\n",
    "\n",
    "plt.figure()\n",
    "plt.plot(x, post_dens.evaluate(pts),'r')\n",
    "plt.plot(x, prior_dens.pdf(pts.transpose()))"
   ]
  },
  {
   "cell_type": "markdown",
   "metadata": {},
   "source": [
    "## But there is \"one\"-direction that matters in $\\Lambda$.\n",
    "\n",
    "In my previous work, a transverse parameterization (TP) is defined as an indexing manifold (possibly piecewise defined) for the contours that is in 1-1 correspondence with the data space. \n",
    "\n",
    "Effectively, constructing the posterior density on the TP is equivalent to constructing the push-forward of the posterior."
   ]
  },
  {
   "cell_type": "code",
   "execution_count": null,
   "metadata": {
    "collapsed": false
   },
   "outputs": [],
   "source": [
    "pf_post_dens = gkde(np.sum(lam_accept.transpose(),axis=0)) #Construct the push-forward of the posterior used accepted samples"
   ]
  },
  {
   "cell_type": "code",
   "execution_count": null,
   "metadata": {
    "collapsed": false
   },
   "outputs": [],
   "source": [
    "plt.figure()\n",
    "plt.plot(x,pf_post_dens.evaluate(x),'r') #Plot the push-forward of the posterior, should look like the observed density\n",
    "plt.plot(x,obs_dens.pdf(x))"
   ]
  },
  {
   "cell_type": "markdown",
   "metadata": {},
   "source": [
    "# Now suppose we used a different QoI\n",
    "\n",
    "## QoI: $q=\\lambda_1$"
   ]
  },
  {
   "cell_type": "code",
   "execution_count": null,
   "metadata": {
    "collapsed": false
   },
   "outputs": [],
   "source": [
    "q = lam[0,:]\n",
    "print(q.shape)"
   ]
  },
  {
   "cell_type": "markdown",
   "metadata": {},
   "source": [
    "## Push-forward density"
   ]
  },
  {
   "cell_type": "code",
   "execution_count": null,
   "metadata": {
    "collapsed": true
   },
   "outputs": [],
   "source": [
    "pf_dens = gkde(q)"
   ]
  },
  {
   "cell_type": "markdown",
   "metadata": {},
   "source": [
    "## Import `scipy.stats` to construct observed density"
   ]
  },
  {
   "cell_type": "code",
   "execution_count": null,
   "metadata": {
    "collapsed": false
   },
   "outputs": [],
   "source": [
    "obs_dens = sstats.uniform(0, 2)"
   ]
  },
  {
   "cell_type": "markdown",
   "metadata": {},
   "source": [
    "## Accept/reject sampling of posterior"
   ]
  },
  {
   "cell_type": "code",
   "execution_count": null,
   "metadata": {
    "collapsed": false
   },
   "outputs": [],
   "source": [
    "lam_accept = []\n",
    "r = obs_dens.pdf(q)/pf_dens.evaluate(q)\n",
    "M = np.max(r)\n",
    "eta_r = r/M\n",
    "for i in range(num_samples):\n",
    "    xi = np.random.uniform(0,1)\n",
    "    if eta_r[i] > xi:\n",
    "        lam_accept.append(lam[:,i])"
   ]
  },
  {
   "cell_type": "code",
   "execution_count": null,
   "metadata": {
    "collapsed": false
   },
   "outputs": [],
   "source": [
    "lam_accept = np.array(lam_accept)"
   ]
  },
  {
   "cell_type": "code",
   "execution_count": null,
   "metadata": {
    "collapsed": false
   },
   "outputs": [],
   "source": [
    "plt.figure()\n",
    "plt.scatter(lam[0,:],lam[1,:])\n",
    "plt.scatter(lam_accept[:,0],lam_accept[:,1])"
   ]
  },
  {
   "cell_type": "code",
   "execution_count": null,
   "metadata": {
    "collapsed": false
   },
   "outputs": [],
   "source": [
    "def pltaccept(N):\n",
    "    plt.figure()\n",
    "    plt.scatter(lam[0,:],lam[1,:],s=2)\n",
    "    plt.scatter(lam_accept[0:N,0],lam_accept[0:N,1],s=4)\n",
    "\n",
    "num_accept = lam_accept.shape[0]\n",
    "interact(pltaccept, N=(1,num_accept,10))"
   ]
  },
  {
   "cell_type": "code",
   "execution_count": null,
   "metadata": {
    "collapsed": true
   },
   "outputs": [],
   "source": [
    "post_dens = gkde(lam_accept.transpose()) #Again, not that useful"
   ]
  },
  {
   "cell_type": "code",
   "execution_count": null,
   "metadata": {
    "collapsed": false
   },
   "outputs": [],
   "source": [
    "pts = pts1\n",
    "\n",
    "plt.figure()\n",
    "plt.plot(x, post_dens.evaluate(pts),'r') #Again...not that useful\n",
    "plt.plot(x, prior_dens.pdf(pts.transpose()))"
   ]
  },
  {
   "cell_type": "code",
   "execution_count": null,
   "metadata": {
    "collapsed": false
   },
   "outputs": [],
   "source": [
    "post_dens_TP = gkde(lam_accept[:,0])"
   ]
  },
  {
   "cell_type": "code",
   "execution_count": null,
   "metadata": {
    "collapsed": false
   },
   "outputs": [],
   "source": [
    "plt.figure()\n",
    "plt.plot(x,post_dens_TP.evaluate(x))"
   ]
  },
  {
   "cell_type": "code",
   "execution_count": null,
   "metadata": {
    "collapsed": true
   },
   "outputs": [],
   "source": []
  }
 ],
 "metadata": {
  "anaconda-cloud": {},
  "kernelspec": {
   "display_name": "Python 3",
   "language": "python",
   "name": "python3"
  },
  "language_info": {
   "codemirror_mode": {
    "name": "ipython",
    "version": 3
   },
   "file_extension": ".py",
   "mimetype": "text/x-python",
   "name": "python",
   "nbconvert_exporter": "python",
   "pygments_lexer": "ipython3",
   "version": "3.6.0"
  },
  "widgets": {
   "state": {
    "6636f02f890f4029baa5a10d5116158a": {
     "views": [
      {
       "cell_index": 37
      }
     ]
    }
   },
   "version": "1.2.0"
  }
 },
 "nbformat": 4,
 "nbformat_minor": 2
}
