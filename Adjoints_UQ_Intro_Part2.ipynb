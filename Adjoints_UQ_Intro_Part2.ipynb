{
 "cells": [
  {
   "cell_type": "markdown",
   "metadata": {},
   "source": [
    "## Recap: Sensitivity analysis\n",
    "\n",
    "Given a problem of the form\n",
    "$$\n",
    "    \\large A(\\lambda)u_h = b(\\lambda), \n",
    "$$\n",
    "the solution $u_h$ depends upon the parameter (vector) $\\lambda$, so we write $u_h(\\lambda)$.\n",
    "Subsequently, $Q(u_h)$ also depends implicitly upon the parameter $\\lambda$, and we write $Q(\\lambda)$ to make this dependence explicit.\n",
    "Since parameters are often subject to uncertainty, we are commonly interested in the sensitivity of the QoI with respect to perturbations in these parameters. \n",
    "\n",
    "Let $\\lambda_i$ denote the $i$th component of the vector $\\lambda$ for $1\\leq i\\leq m$.\n",
    "Then, differentiating $A(\\lambda)u_h = b(\\lambda)$ with respect to $\\lambda_i$ and following a similar set of steps as used to derive the computable error estimate, we arrive at\n",
    "$$\n",
    " \\large\t\\partial_{\\lambda_i} Q(\\lambda) = \\left< \\partial_{\\lambda_i} {b}(\\lambda) - \\left[\\partial_{\\lambda_i}A(\\lambda)\\right] {u}(\\lambda), {\\phi}(\\lambda) \\right>.\n",
    "$$\n",
    "Here, $\\phi(\\lambda)$ depends upon $\\lambda$ since $A^\\top$ now also depends upon $\\lambda$. \n",
    "\n",
    "We can also interpret this as $<\\partial_{\\lambda_i} R(u), \\phi>$, the derivative of the **residual** with respect to the parameter $\\lambda_i$. \n",
    "\n",
    "However, we only require the partial derivatives of the data and operator $A$ with respect to the parameters in order to determine the partial derivatives of $Q$. \n",
    "In other words, we solve ***two problems: the forward and adjoint problem*** and are able to determine the gradient of $Q$ even if $\\lambda$ has dimension in the millions. \n",
    "\n",
    "What is the alternative?  You solve a linear algebra problem $\\partial u/\\partial \\lambda_i$, one each parameter, of the form\n",
    "$$\n",
    "A \\frac{\\partial u}{\\partial \\lambda_i} = \\frac{\\partial R}{\\lambda_i} (u).\n",
    "$$\n",
    "Even with a matrix factorization of $A$ this is still unappealing for a large number of parameters and a modest number of QoI.  \n",
    "\n",
    "\n"
   ]
  },
  {
   "cell_type": "code",
   "execution_count": 94,
   "metadata": {
    "collapsed": true
   },
   "outputs": [],
   "source": [
    "import numpy as np \n",
    "import scipy.sparse as sparse\n",
    "import scipy.sparse.linalg as splinalg\n",
    "import scipy.linalg as linalg\n",
    "import matplotlib.pyplot as plt\n",
    "\n",
    "#The next line enables the display of graphical output within Jupyter Notebooks and is NOT needed outside of Notebooks\"\n",
    "%matplotlib inline"
   ]
  },
  {
   "cell_type": "markdown",
   "metadata": {},
   "source": [
    "## A More Interesting Forward UQ Problem\n",
    "\n",
    "Consider the two-point boundary value problem\n",
    "$$\n",
    "    \\large -(\\alpha(x)u_x)_x = e^{\\beta x}, \\ x\\in(0,1), \\ u(0)=u(1)=0.\n",
    "$$\n",
    "Here, $\\alpha(x)$ is some parameter, and $\\beta(x)$ is a continuous diffusion coefficient. \n",
    "\n",
    "\n",
    "\n",
    "We use a three-point centered finite difference scheme on a uniform mesh of $(0,1)$ with grid spacing $h$ (defaults to 0.05) to discretize this problem into a matrix-vector problem of the form\n",
    "$$\n",
    "    \\large A(\\alpha)u_h = b(\\beta), \n",
    "$$\n",
    "where $u_h$ is a vector of nodal values that approximate the solution $u$ at the grid points of the mesh.\n",
    "\n",
    "***As before, We are interested in $u_h$ not $u$ here. We simply use the differential equation to motivate the matrix-vector problem.***"
   ]
  },
  {
   "cell_type": "code",
   "execution_count": 95,
   "metadata": {},
   "outputs": [],
   "source": [
    "#KL eigenfunctions and eigenvalues for Wiener Process\n",
    "\n",
    "def efunc(x,k):\n",
    "    return np.sqrt(2)*np.sin(np.pi*(k-.5)*x)\n",
    "def eval(k):\n",
    "    return 1.0/((k-.5)**2*np.pi**2)\n",
    "\n",
    "# diffusion coefficient\n",
    "def alpha_func(x,coeff,k=5):\n",
    "    # 5 terms in K-L expansion\n",
    "    alpha=np.zeros(x.shape)\n",
    "    for i in range(1,k+1):\n",
    "        alpha+=coeff[i-1]*np.sqrt(eval(i))*efunc(x,i)\n",
    "    return 1+alpha\n",
    "\n"
   ]
  },
  {
   "cell_type": "code",
   "execution_count": 96,
   "metadata": {},
   "outputs": [
    {
     "name": "stdout",
     "output_type": "stream",
     "text": [
      "[ 1.          1.04567105  1.09099971  1.13564834  1.17928862  1.22160612\n",
      "  1.26230452  1.30110955  1.33777263  1.37207407  1.4038257   1.43287315\n",
      "  1.45909748  1.48241624  1.50278402  1.52019236  1.53466905  1.54627701\n",
      "  1.55511246  1.56130274  1.5650036   1.5663961   1.56568322  1.56308612\n",
      "  1.55884025  1.5531913   1.54639109  1.53869347  1.53035027  1.52160747\n",
      "  1.51270152  1.50385593  1.49527826  1.48715739  1.4796613   1.47293523\n",
      "  1.46710034  1.46225281  1.45846353  1.45577816  1.45421767  1.45377945\n",
      "  1.45443861  1.4561499   1.45884976  1.46245875  1.46688419  1.47202294\n",
      "  1.47776432  1.48399301  1.49059204  1.49744554  1.50444155  1.51147444\n",
      "  1.51844728  1.52527377  1.53187999  1.53820569  1.54420528  1.54984846\n",
      "  1.55512039  1.56002154  1.56456716  1.56878637  1.57272098  1.57642395\n",
      "  1.57995767  1.58339194  1.5868019   1.59026574  1.59386241  1.59766933\n",
      "  1.6017601   1.60620234  1.61105566  1.61636988  1.62218335  1.62852169\n",
      "  1.63539669  1.64280567  1.650731    1.65914016  1.66798595  1.6772072\n",
      "  1.68672966  1.69646734  1.70632397  1.71619482  1.72596866  1.73552989\n",
      "  1.7447608   1.75354388  1.76176413  1.7693114   1.77608252  1.78198344\n",
      "  1.78693109  1.7908551   1.79369918  1.79542228  1.79599944]\n",
      "101\n",
      "99\n"
     ]
    },
    {
     "data": {
      "image/png": "[encoded data removed]",
      "text/plain": [
       "<matplotlib.figure.Figure at 0x114567630>"
      ]
     },
     "metadata": {},
     "output_type": "display_data"
    }
   ],
   "source": [
    "# Setup computational grid\n",
    "h = .01 #mesh spacing\n",
    "k=5 # terms in the K-L expansion of alpha\n",
    "xval = np.arange(h, 1.0, h)\n",
    "num_pts = len(xval)\n",
    "\n",
    "xbp= np.arange(0,1.0+h,h)\n",
    "coeff=np.random.rand(k)\n",
    "alpha=alpha_func(xbp,coeff)\n",
    "beta=5.0 #set it equal to mean value\n",
    "#beta=10.0*np.random.rand(1) #beta is U[0,10].\n",
    "#print(alpha)\n",
    "#plt.plot(xbp,alpha)\n",
    "#print(xbp.size)\n",
    "#print(xval.size)"
   ]
  },
  {
   "cell_type": "markdown",
   "metadata": {},
   "source": [
    "We model $\\alpha(x)$ as a continuous random variable equal to $1+\\xi$, where $\\xi$ corresponds to a stochastic process with covariance equal to $\\min(x_1,x_2)$ and weights drawn from $\\mathcal{U}[0,1]$.\n",
    "\n",
    "We plot a realization of $\\alpha(x)$ with 20 K-L terms below:\n",
    "Note that this expansion would give us a 20+1 dimensional input parameter space(the 20 $\\alpha$ terms + the parameterization of the forcing term).\n"
   ]
  },
  {
   "cell_type": "code",
   "execution_count": 105,
   "metadata": {},
   "outputs": [
    {
     "data": {
      "image/png": "[encoded data removed]",
      "text/plain": [
       "<matplotlib.figure.Figure at 0x114b6bcf8>"
      ]
     },
     "metadata": {},
     "output_type": "display_data"
    }
   ],
   "source": [
    "def plot_realize(xv,k=10):\n",
    "    out=np.zeros(xv.shape)\n",
    "    rv=np.random.rand(k)\n",
    "    for i in range(1,k+1):\n",
    "        out+=rv[i-1]*np.sqrt(eval(i))*efunc(xv,i)\n",
    "    plt.plot(xv,1+out)\n",
    "    plt.show()\n",
    "    \n",
    "plot_realize(xbp,k=20)"
   ]
  },
  {
   "cell_type": "code",
   "execution_count": 97,
   "metadata": {},
   "outputs": [
    {
     "name": "stdout",
     "output_type": "stream",
     "text": [
      "[[ 2.0911709  -1.06833538  0.         ...,  0.          0.          0.        ]\n",
      " [-1.06833538  2.1816594  -1.11332402 ...,  0.          0.          0.        ]\n",
      " [ 0.         -1.11332402  2.2707925  ...,  0.          0.          0.        ]\n",
      " ..., \n",
      " [ 0.          0.          0.         ...,  3.58117024 -1.79227714  0.        ]\n",
      " [ 0.          0.          0.         ..., -1.79227714  3.58683787\n",
      "  -1.79456073]\n",
      " [ 0.          0.          0.         ...,  0.         -1.79456073\n",
      "   3.59027158]]\n"
     ]
    }
   ],
   "source": [
    "# Discretize BVP \n",
    "\n",
    "# Step 1: Define data b\n",
    "# Uniform grid so can move h to right hand side\n",
    "b = h**2*np.exp(beta*xval)\n",
    "\n",
    "# define our beta vector.  We will take the first 5 terms of the KL \n",
    "# expansion of a wiener covarianece  \n",
    "A = np.zeros((len(xval),len(xval)))\n",
    "# Step 2: Define matrix A\n",
    "# We use the spdiags command to map -1 2 -1 to the tridiagonal matrix A\n",
    "#temp = np.hstack((-np.ones((num_pts,1)), 2.0*np.ones((num_pts,1)), -np.ones((num_pts,1)))).transpose()\n",
    "#A = sparse.spdiags(temp, [-1,0,1], num_pts, num_pts, format = \"csr\")\n",
    "\n",
    "def build_Amat(alpha): #alpha vector of grid point diffusion values\n",
    "    n=alpha.size-2\n",
    "    A = np.zeros((n,n))\n",
    "    for i in range(n):\n",
    "        A[i,i] = ( alpha[i] + alpha[i+2] )/2 + alpha[i+1]\n",
    "        if i<n-1:\n",
    "            A[i,i+1] = -( alpha[i+1] + alpha[i+2] ) / 2\n",
    "        if i>0:\n",
    "            A[i,i-1] = -( alpha[i] + alpha[i+1] ) / 2\n",
    "    return A\n",
    "\n",
    "# build stiffness matrix\n",
    "A=build_Amat(alpha)\n",
    "print(A) #debug"
   ]
  },
  {
   "cell_type": "markdown",
   "metadata": {},
   "source": [
    "## What's the analytic solution?\n",
    "\n",
    "We integrate once to get \n",
    "$$\n",
    "\\alpha(x) u_x = (\\beta)^{-1} e^{\\beta x} + C \\quad \\beta \\neq 0\n",
    "$$\n",
    "and hence \n",
    "$$\n",
    "u(x) = \\beta^{-1} \\int \\frac{e^{\\beta x}}{\\alpha(x)} \\; dx +C{\\alpha}^{-1}x\n",
    "$$\n",
    "For $\\alpha=1$ we can further simplify this expression to (assuming zero boundary conditions)\n",
    "$$\n",
    "u(x) = \\beta^{-2} e^{\\beta x} + c_1 x + c_2 \\rightarrow c_2 = -\\beta^{-2}; \\quad c_1 = \\beta^{-2} \\left(1 - e^{\\beta}\\right)\n",
    "$$\n",
    "\n",
    "For $Q(u)=u_x(0)$ we then have \n",
    "$$\n",
    "Q(\\beta) = \\beta^{-2} \\left( 1 - e^\\beta \\right) + \\beta^{-1}\n",
    "$$\n",
    "And for $Q(u)=u_x(1)$ we have:\n",
    "$$\n",
    "Q(\\beta) = \\beta^{-1} e^\\beta +  -\\beta^{-2} + \\beta^{-2} \\left(1 - e^{\\beta}\\right)\n",
    "$$"
   ]
  },
  {
   "cell_type": "code",
   "execution_count": 98,
   "metadata": {},
   "outputs": [
    {
     "name": "stdout",
     "output_type": "stream",
     "text": [
      "[ 0.05040608  0.09856699  0.14468249  0.18893881  0.23150891  0.27255287\n",
      "  0.31221855  0.35064229  0.3879497   0.42425639  0.45966866  0.49428427\n",
      "  0.52819296  0.56147709  0.59421206  0.62646675  0.6583039   0.6897803\n",
      "  0.7209471   0.75184987  0.78252876  0.81301852  0.8433485   0.87354264\n",
      "  0.90361941  0.93359176  0.96346709  0.9932472   1.02292828  1.052501\n",
      "  1.08195061  1.11125711  1.14039556  1.16933637  1.19804579  1.22648641\n",
      "  1.25461771  1.28239669  1.30977855  1.33671729  1.36316636  1.38907921\n",
      "  1.41440983  1.4391131   1.46314514  1.4864635   1.50902721  1.53079675\n",
      "  1.55173395  1.57180169  1.59096367  1.60918398  1.62642668  1.6426554\n",
      "  1.65783281  1.67192018  1.68487694  1.69666018  1.7072243   1.71652061\n",
      "  1.72449702  1.73109776  1.73626315  1.73992948  1.74202886  1.74248927\n",
      "  1.74123449  1.73818424  1.73325432  1.72635675  1.71739997  1.70628908\n",
      "  1.69292603  1.67720982  1.65903665  1.63829999  1.6148906   1.58869644\n",
      "  1.55960241  1.52749006  1.49223708  1.45371666  1.4117967   1.3663389\n",
      "  1.31719768  1.26421897  1.20723886  1.14608222  1.08056108  1.01047305\n",
      "  0.93559959  0.85570428  0.77053094  0.67980181  0.58321565  0.48044581\n",
      "  0.37113831  0.25490992  0.13134628]\n"
     ]
    },
    {
     "data": {
      "text/plain": [
       "[<matplotlib.lines.Line2D at 0x1144445f8>]"
      ]
     },
     "execution_count": 98,
     "metadata": {},
     "output_type": "execute_result"
    },
    {
     "data": {
      "image/png": "[encoded data removed]",
      "text/plain": [
       "<matplotlib.figure.Figure at 0x1144295c0>"
      ]
     },
     "metadata": {},
     "output_type": "display_data"
    }
   ],
   "source": [
    "# Compute the approximate solution with CG method\n",
    "U_h = np.linalg.solve(A, b)\n",
    "print(U_h)\n",
    "plt.plot(xval,U_h)"
   ]
  },
  {
   "cell_type": "markdown",
   "metadata": {},
   "source": [
    "## Define the QoI\n",
    "\n",
    "If our quantity of interest is the flux at the left boundary($x=0$), then this corresponds to $\\alpha(x=1)u_x(x=1)$.  One discrete approximation would involve a forward difference of $u$, namely\n",
    "\n",
    "$$\n",
    "Q(u) \\approx \\alpha(x_n=1) \\frac{u_{x_1} - u_{x_0}}{(x_1-x_0)=h}\n",
    "$$\n",
    "where \n",
    "$$\n",
    "\\alpha_x = 2+ \\sum_{i=1}^{i=5} a_i \\lambda_i \\phi_i(x)\n",
    "$$\n",
    "(the first 5 terms of the K-L expansion).\n",
    "As $u_{x_0}=0$ the flux expresion simplifies a little.\n",
    "\n",
    "There are more accurate boundary flux approximations(assuming a smooth enough solution) but we will not pursue this in this example.\n",
    "\n",
    "For our finite differenced QoI the boundary flux simply becomes a point evaluation functional, namely $(h)^{-1}\\alpha(x_{n}) u(x_{n-1})$.\n",
    "The corresponding Riesz representor $\\psi$ is equal to $(h)^{-1}\\alpha(x_{n-1}) e_{n-1}$.\n",
    "\n",
    "Our $K-L$ expansion has $k=5$ parameters (the $a_i$).  The sensitivity of Q to a parameter $a_i$ is therefore equal to\n",
    "\n",
    "$$\n",
    "\\frac{\\partial Q}{\\partial a_i}(u) + Q\\left( \\frac{\\partial u}{\\partial a_i} \\right)\n",
    "$$\n",
    "which is equal to\n",
    "$$\n",
    "h^{-1} \\lambda_i \\phi_i(x=1) u(x_{n-1}) + < \\frac{\\partial A}{\\partial a_i}, \\Phi >\n",
    "$$\n",
    "where $\\Phi$ solves the usual discrete adjoint problem\n",
    "$$\n",
    "A \\phi = \\psi = h^{-1} \\alpha(x_{n-1}) e_{n-1}\n",
    "$$\n",
    "\n"
   ]
  },
  {
   "cell_type": "code",
   "execution_count": 99,
   "metadata": {
    "collapsed": true
   },
   "outputs": [],
   "source": [
    "def flux_QoI(u,coeff,h):\n",
    "    return 1/h*alpha_func(1.0,coeff)*u[-1]\n",
    "    \n",
    "def dQda(u,h,coeff):\n",
    "    Qgrada=np.zeros(coeff.shape)\n",
    "    for loop in range(Qgrada.size):\n",
    "        Qgrada[loop]=1/h*eval(loop+1)*efunc(1.0,loop+1)*u[-1]\n",
    "    print(Qgrada)\n",
    "    return Qgrada"
   ]
  },
  {
   "cell_type": "code",
   "execution_count": 100,
   "metadata": {},
   "outputs": [
    {
     "name": "stdout",
     "output_type": "stream",
     "text": [
      "99\n"
     ]
    },
    {
     "data": {
      "text/plain": [
       "[<matplotlib.lines.Line2D at 0x11465f320>]"
      ]
     },
     "execution_count": 100,
     "metadata": {},
     "output_type": "execute_result"
    },
    {
     "data": {
      "image/png": "[encoded data removed]",
      "text/plain": [
       "<matplotlib.figure.Figure at 0x114303a90>"
      ]
     },
     "metadata": {},
     "output_type": "display_data"
    }
   ],
   "source": [
    "psi = np.zeros(xval.size)\n",
    "print(xval.size)\n",
    "psi[-1] = (xval[1]-xval[0])*alpha_func(np.array([1.0]),coeff)\n",
    "phi= np.linalg.solve(A, psi)\n",
    "plt.plot(xval,phi)\n",
    "#print(A)\n",
    "#print(alpha)"
   ]
  },
  {
   "cell_type": "markdown",
   "metadata": {},
   "source": [
    "Notice that $dA/da_i$ collapses down to a matrix where the $\\alpha(x)$ vector is replace with the $i$th term in the KL expansion, namely\n",
    "$\\sqrt{\\lambda_i}{\\phi_i(x)}$."
   ]
  },
  {
   "cell_type": "code",
   "execution_count": 101,
   "metadata": {
    "collapsed": true
   },
   "outputs": [],
   "source": [
    "def dRda(xval,u,index):\n",
    "    temp=eval(index+1)*efunc(xbp,index+1) # lambda_i phi_i(x)\n",
    "    Amat=build_Amat(temp)\n",
    "    return np.dot(Amat,u)\n",
    "\n",
    "def Qduda(u,index,xval,phi):\n",
    "    temp=dRda(xval,u,index)\n",
    "    return np.dot(temp,phi)\n",
    "\n",
    "    "
   ]
  },
  {
   "cell_type": "code",
   "execution_count": 102,
   "metadata": {},
   "outputs": [
    {
     "name": "stdout",
     "output_type": "stream",
     "text": [
      "[ 7.5282327  -0.8364703   0.30112931 -0.1536374   0.09294114]\n",
      "[ 14.5805537   -1.51654674   0.59494821  -0.29780281   0.18591692]\n"
     ]
    }
   ],
   "source": [
    "Qgrada=np.zeros(5)\n",
    "for i in range(5):\n",
    "    Qgrada[i]=Qduda(U_h,i,xval,phi)\n",
    "Qgrada*=h**(-2)  #This scaling is because he scaled \\psi by h^2.\n",
    "Qgrada+=dQda(U_h,h,coeff)\n",
    "print(Qgrada)"
   ]
  },
  {
   "cell_type": "markdown",
   "metadata": {},
   "source": [
    "For this particular problem the QoI is sensitive to the first few modes in the K-L expansion.  "
   ]
  },
  {
   "cell_type": "markdown",
   "metadata": {
    "collapsed": true
   },
   "source": [
    "## How do we use the gradient information?\n",
    "\n",
    "* Active Subspaces(Jordan will talk about this on Monday)\n",
    "* Adaptive surrogate construction(adapt in dimensions will large gradients, ignore others)\n",
    "* Optimization \n"
   ]
  },
  {
   "cell_type": "markdown",
   "metadata": {},
   "source": [
    "## Things to Try:\n",
    "\n",
    "1) Generate the first 20 coefficients for a K-L expansion.  Does the QoI change much if you use the first 5,10,15, or all coefficients?  \n",
    "\n",
    "2) Fix the number of terms in the K-L expansion but check to see if your QoI changes with grid resolution.\n",
    "\n",
    "3) Do a forward propagation over a 6D input space(5 KL-terms + 1 RHS term) assuming all parameters are $\\mathcal{U}[0,1]$.  What does the \n",
    "pdf(via KDE) of the push-forward of the prior look like?\n"
   ]
  },
  {
   "cell_type": "code",
   "execution_count": null,
   "metadata": {
    "collapsed": true
   },
   "outputs": [],
   "source": []
  }
 ],
 "metadata": {
  "anaconda-cloud": {},
  "kernelspec": {
   "display_name": "Python [conda root]",
   "language": "python",
   "name": "conda-root-py"
  },
  "language_info": {
   "codemirror_mode": {
    "name": "ipython",
    "version": 3
   },
   "file_extension": ".py",
   "mimetype": "text/x-python",
   "name": "python",
   "nbconvert_exporter": "python",
   "pygments_lexer": "ipython3",
   "version": "3.6.1"
  }
 },
 "nbformat": 4,
 "nbformat_minor": 1
}
